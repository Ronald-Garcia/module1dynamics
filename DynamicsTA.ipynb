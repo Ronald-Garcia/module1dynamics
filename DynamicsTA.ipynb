{
 "cells": [
  {
   "cell_type": "code",
   "execution_count": 5,
   "id": "c012f6db-b3b1-45c4-a37c-f77f1ca7940c",
   "metadata": {},
   "outputs": [],
   "source": [
    "import numpy as np\n",
    "import matplotlib.pyplot as plt\n",
    "import ipywidgets as widgets\n",
    "from IPython.display import display"
   ]
  },
  {
   "cell_type": "code",
   "execution_count": 2,
   "id": "18fc3f4b-a145-4bc0-b748-4c4061c7b714",
   "metadata": {},
   "outputs": [],
   "source": [
    "v_o_cur = []    # buffer for velocity\n",
    "vo_ans = []     # actual predicted velocities\n"
   ]
  },
  {
   "cell_type": "markdown",
   "id": "30db38f8-7056-401b-b422-4049be4fe3f3",
   "metadata": {},
   "source": [
    "# Module 1 Checker\n",
    "\n",
    "## Finding the predicted exit velocities\n",
    "\n",
    "### USAGE\n",
    "Plug in values from tables, as specified.\n",
    "- $x_1$ is the first entry of Projectile Flight Distance      (in inches)\n",
    "- $x_2$ is the second entry of the Projectile Flight Distance (in inches)\n",
    "- $x_3$ is the third entry of the Projectile Flight Distance  (in inches)\n",
    "- Angle is the angle used for all trials                    (in degrees)\n",
    "- Height is the Barrel Height used for all trials           (in inches)\n",
    "Once all values have been typed in, press ENTER and click Add to Answer!. This adds the exit velocity to the final list. If not, the velocity will be lost.\n",
    "Click Clear Answer! to clear the saved velocities."
   ]
  },
  {
   "cell_type": "code",
   "execution_count": 3,
   "id": "7b4a551c-0b57-454d-b8d9-9cbdfc02ccbc",
   "metadata": {},
   "outputs": [
    {
     "name": "stderr",
     "output_type": "stream",
     "text": [
      "<>:40: SyntaxWarning: invalid escape sequence '\\c'\n",
      "<>:40: SyntaxWarning: invalid escape sequence '\\c'\n",
      "C:\\Users\\rgarc\\AppData\\Local\\Temp\\ipykernel_17916\\2169595864.py:40: SyntaxWarning: invalid escape sequence '\\c'\n",
      "  description='Angle ($^\\circ$)',\n"
     ]
    },
    {
     "data": {
      "application/vnd.jupyter.widget-view+json": {
       "model_id": "671bc845fe0e4c22a8bcae2d34c1e0d6",
       "version_major": 2,
       "version_minor": 0
      },
      "text/plain": [
       "interactive(children=(BoundedFloatText(value=0.0, description='$x_1$ (in)', max=400.0), BoundedFloatText(value…"
      ]
     },
     "metadata": {},
     "output_type": "display_data"
    },
    {
     "data": {
      "application/vnd.jupyter.widget-view+json": {
       "model_id": "6d85bc0ffd39423cb99093ff8690680a",
       "version_major": 2,
       "version_minor": 0
      },
      "text/plain": [
       "Button(description='Add to Answer!', style=ButtonStyle())"
      ]
     },
     "metadata": {},
     "output_type": "display_data"
    },
    {
     "data": {
      "application/vnd.jupyter.widget-view+json": {
       "model_id": "64c57590e6554969807f9f784337a81a",
       "version_major": 2,
       "version_minor": 0
      },
      "text/plain": [
       "Button(description='Clear Answer!', style=ButtonStyle())"
      ]
     },
     "metadata": {},
     "output_type": "display_data"
    },
    {
     "data": {
      "application/vnd.jupyter.widget-view+json": {
       "model_id": "4143c35c59af4b518ac8e13994d12de7",
       "version_major": 2,
       "version_minor": 0
      },
      "text/plain": [
       "Output()"
      ]
     },
     "metadata": {},
     "output_type": "display_data"
    }
   ],
   "source": [
    "g = 32.2 * 12 # gravity (in inches)\n",
    "    \n",
    "\n",
    "# calculates exit velocity based on the table of students\n",
    "def exit_vel(x1: float, x2: float, x3: float, theta: float,h: float):\n",
    "    x = np.average([x1, x2, x3])\n",
    "    dx = np.std([x1, x2, x3])\n",
    "    if 2*h/g + 2/g*x*np.tan(theta * np.pi/180) <= 0:\n",
    "        print(2*h + 2*x*np.tan(theta* np.pi/180))\n",
    "        return\n",
    "    \n",
    "    v_o=x / np.cos(theta* np.pi / 180) / (np.sqrt(2*h/g + 2/g*x*np.tan(theta * np.pi/180)))\n",
    "    print(f\"{str(x)}")\n",
    "    print(f\"{str(v_o)} in/s\")\n",
    "    v_o_cur.clear()\n",
    "    v_o_cur.append(v_o)\n",
    "    \n",
    "    return x / np.cos(theta * np.pi / 180) / (np.sqrt(2*h/g + 2/g*x*np.tan(theta* np.pi/180)))\n",
    "\n",
    "# creates interactive widget, below\n",
    "check = widgets.interactive(exit_vel, x1=widgets.BoundedFloatText(\n",
    "    value=0,\n",
    "    min=0,\n",
    "    max=400,\n",
    "    description='$x_1$ (in)'\n",
    "), x2=widgets.BoundedFloatText(\n",
    "    value=0,\n",
    "    min=0,\n",
    "    max=400,\n",
    "    description='$x_2$ (in)'\n",
    "), x3=widgets.BoundedFloatText(\n",
    "    value=0,\n",
    "    min=0,\n",
    "    max=400,\n",
    "    description='$x_3$ (in)'\n",
    "), theta=widgets.BoundedFloatText(\n",
    "    value=0,\n",
    "    min=0,\n",
    "    max=180,\n",
    "    description='Angle ($^\\circ$)',\n",
    "    disabled=False\n",
    "), h=widgets.BoundedFloatText(\n",
    "    value=0,\n",
    "    min=0,\n",
    "    max=400,\n",
    "    description='Height (in):',\n",
    "    disabled=False\n",
    "))\n",
    "\n",
    "# creates buttons to add and clear to the final answers\n",
    "add_button = widgets.Button(description=\"Add to Answer!\")\n",
    "clear_button = widgets.Button(description=\"Clear Answer!\")\n",
    "output = widgets.Output()\n",
    "display(check, add_button, clear_button, output)\n",
    "\n",
    "def on_add_button_clicked(b):\n",
    "    with output:\n",
    "        output.clear_output()\n",
    "        if len(v_o_cur) != 0:        \n",
    "            vo_ans.append(v_o_cur[0])\n",
    "            v_o_cur.clear()\n",
    "        print(f\"\\n===================================\\n Current Answer: {vo_ans}\")\n",
    "def on_clear_button_clicked(b):\n",
    "    with output:\n",
    "        output.clear_output()\n",
    "        vo_ans.clear()\n",
    "        print(f\"\\n===================================\\n Cleared!\")\n",
    "add_button.on_click(on_add_button_clicked)\n",
    "clear_button.on_click(on_clear_button_clicked)\n",
    "\n",
    "\n",
    "\n",
    "#########\n",
    "# USAGE #\n",
    "#########\n",
    "# Plug in values from tables, as specified.\n",
    "# - x_1 is the first entry of Projectile Flight Distance      (in inches)\n",
    "# - x_2 is the second entry of the Projectile Flight Distance (in inches)\n",
    "# - x_3 is the third entry of the Projectile Flight Distance  (in inches)\n",
    "# - Angle is the angle used for all trials                    (in degrees)\n",
    "# - Height is the Barrel Height used for all trials           (in inches)\n",
    "# Once all values have been typed in, press ENTER and click Add to Answer!.\n",
    "# This adds the exit velocity to the final list. If not, the velocity will be lost.\n",
    "# Click Clear Answer! to clear the saved velocities."
   ]
  },
  {
   "cell_type": "markdown",
   "id": "08f0df91-4ba8-4939-8369-5a1842531bff",
   "metadata": {},
   "source": [
    "## Finding the Predicted Distance\n",
    "\n"
   ]
  },
  {
   "cell_type": "markdown",
   "id": "74c0a1be-d92d-44a4-861e-7c90eff35945",
   "metadata": {},
   "source": [
    "## USAGE \n",
    "Plug in the initial conditions to be predicted, as specified.\n",
    "- Angle is Barrel Angle to be predicted       (in degrees)\n",
    "- Height is the Barrel Height to be predicted (in inches)\n",
    "\n",
    "Once all values have been typed in, press ENTER and the predicted values! "
   ]
  },
  {
   "cell_type": "code",
   "execution_count": 4,
   "id": "2849643e-8f95-484f-9ddf-3cec8ed1e569",
   "metadata": {},
   "outputs": [
    {
     "name": "stderr",
     "output_type": "stream",
     "text": [
      "<>:16: SyntaxWarning: invalid escape sequence '\\c'\n",
      "<>:16: SyntaxWarning: invalid escape sequence '\\c'\n",
      "C:\\Users\\rgarc\\AppData\\Local\\Temp\\ipykernel_17916\\4079616071.py:16: SyntaxWarning: invalid escape sequence '\\c'\n",
      "  description='Angle ($^\\circ$)'\n"
     ]
    },
    {
     "data": {
      "application/vnd.jupyter.widget-view+json": {
       "model_id": "9b6c698aa0cc470287e18f81d2c20838",
       "version_major": 2,
       "version_minor": 0
      },
      "text/plain": [
       "interactive(children=(BoundedFloatText(value=0.0, description='Angle ($^\\\\circ$)', max=400.0), BoundedFloatTex…"
      ]
     },
     "metadata": {},
     "output_type": "display_data"
    }
   ],
   "source": [
    "# calculates predicted distances based on the actual exit velocities above\n",
    "def x_pred(theta: float,h: float):\n",
    "        \n",
    "    t_o = [v_o*np.sin(theta*np.pi/180)/g + 1/g*np.sqrt(v_o**2 * np.sin(theta*np.pi/180)**2 + 2 * g * h) for v_o in vo_ans]\n",
    "    x_o = [v_o * np.cos(theta*np.pi/180)*t_o[i] for i,v_o in enumerate(vo_ans)]\n",
    "    print(\"FOR V_O (in/s)\\t\"+'\\t'.join([str(round(v, 2)) for v in vo_ans]))\n",
    "    print(\"TIME (s):\\t\"+'\\t'.join([str(round(t, 3)) for t in t_o]))\n",
    "    print(\"DISTANCE (in):\\t\"+'\\t'.join([str(round(x, 3)) for x in x_o]))\n",
    "    return x_o\n",
    "\n",
    "# creates interactive widget, below\n",
    "check = widgets.interactive(x_pred, theta=widgets.BoundedFloatText(\n",
    "    value=0,\n",
    "    min=0,\n",
    "    max=400,\n",
    "    description='Angle ($^\\circ$)'\n",
    "), h=widgets.BoundedFloatText(\n",
    "    value=0,\n",
    "    min=0,\n",
    "    max=180,\n",
    "    description='Height (in)',\n",
    "    disabled=False\n",
    "))\n",
    "\n",
    "display(check)\n",
    "\n",
    "#########\n",
    "# USAGE #\n",
    "#########\n",
    "# Plug in the initial conditions to be predicted, as specified.\n",
    "# - Angle is Barrel Angle to be predicted       (in degrees)\n",
    "# - Height is the Barrel Height to be predicted (in inches)\n",
    "# Once all values have been typed in, press ENTER and the predicted values!.\n",
    "# This adds the exit velocity to the final list. If not, the velocity will be lost.\n",
    "# Click Clear Answer! to clear the saved velocities."
   ]
  },
  {
   "cell_type": "code",
   "execution_count": null,
   "id": "b29b4846-c388-4baf-8804-2fd6a1de3fd7",
   "metadata": {},
   "outputs": [],
   "source": []
  }
 ],
 "metadata": {
  "kernelspec": {
   "display_name": "Python 3 (ipykernel)",
   "language": "python",
   "name": "python3"
  },
  "language_info": {
   "codemirror_mode": {
    "name": "ipython",
    "version": 3
   },
   "file_extension": ".py",
   "mimetype": "text/x-python",
   "name": "python",
   "nbconvert_exporter": "python",
   "pygments_lexer": "ipython3",
   "version": "3.12.3"
  }
 },
 "nbformat": 4,
 "nbformat_minor": 5
}
